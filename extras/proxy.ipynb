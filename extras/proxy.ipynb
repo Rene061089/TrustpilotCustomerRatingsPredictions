{
 "cells": [
  {
   "cell_type": "code",
   "execution_count": 1,
   "metadata": {},
   "outputs": [],
   "source": [
    "import pickle\n",
    "from tqdm.notebook import tqdm\n",
    "import requests\n",
    "from concurrent.futures import ThreadPoolExecutor\n",
    "import time"
   ]
  },
  {
   "cell_type": "code",
   "execution_count": 2,
   "metadata": {},
   "outputs": [],
   "source": [
    "#Proxy list\n",
    "url= 'https://raw.githubusercontent.com/RX4096/proxy-list/main/online/https.txt'\n",
    "r1 = requests.get(url, timeout=10)\n",
    "\n",
    "iplist1 = r1.text.split('\\n')\n",
    "\n",
    "proxyList = []\n",
    "\n",
    "#Creates a list with dicts containing https info for use with requests\n",
    "for ip in iplist1:\n",
    "    proxy={'https': 'https://'+ip}\n",
    "    proxyList.append(proxy)"
   ]
  },
  {
   "cell_type": "code",
   "execution_count": 4,
   "metadata": {},
   "outputs": [
    {
     "data": {
      "application/vnd.jupyter.widget-view+json": {
       "model_id": "74e3f3dc4a7645d7b710034912c9756a",
       "version_major": 2,
       "version_minor": 0
      },
      "text/plain": [
       "HBox(children=(FloatProgress(value=0.0, max=85.0), HTML(value='')))"
      ]
     },
     "metadata": {},
     "output_type": "display_data"
    },
    {
     "name": "stdout",
     "output_type": "stream",
     "text": [
      "1\n",
      "\n"
     ]
    }
   ],
   "source": [
    "testfetch = 'https://bornholm.nu/'\n",
    "workingProxyList=[]\n",
    "\n",
    "def proxyCheck(ip):\n",
    "    loadingbar.update(1)\n",
    "    success= 0\n",
    "    for i in range(3):  \n",
    "        try:\n",
    "            #If requests fail, it exits method and the ThreadPoolExecutor tries a new ip entry\n",
    "            r = requests.get(testfetch, timeout=10, proxies=ip)\n",
    "            success=success+1\n",
    "            #time.sleep(5)\n",
    "            if success == 3:\n",
    "                #If requets does not fail, it gets added to a list of known working IP's\n",
    "                workingProxyList.append(ip)\n",
    "        except:\n",
    "            break\n",
    "    \n",
    "with tqdm(total=len(proxyList)) as loadingbar: \n",
    "    with ThreadPoolExecutor(24) as ex:\n",
    "        ex.map(proxyCheck, proxyList)\n",
    "    print(len(workingProxyList))"
   ]
  },
  {
   "cell_type": "code",
   "execution_count": 5,
   "metadata": {},
   "outputs": [],
   "source": [
    "#pickle.dump saves the list of working IP's for later use.\n",
    "with open(\"../data/\"+'ipList', 'wb') as output_file:\n",
    "    pickle.dump(workingProxyList,output_file)"
   ]
  },
  {
   "cell_type": "code",
   "execution_count": 8,
   "metadata": {},
   "outputs": [
    {
     "data": {
      "text/plain": [
       "[{'https': 'https://5.189.184.6:80'}]"
      ]
     },
     "execution_count": 8,
     "metadata": {},
     "output_type": "execute_result"
    }
   ],
   "source": [
    "#Loads a previously tested IP list for use    \n",
    "def loadIpList():\n",
    "    with open(\"../data/\"+'ipList', 'rb') as file:\n",
    "        workingProxyList = pickle.load(file)\n",
    "        \n",
    "    return workingProxyList\n",
    "\n",
    "loadIpList()"
   ]
  }
 ],
 "metadata": {
  "kernelspec": {
   "display_name": "Python 3",
   "language": "python",
   "name": "python3"
  },
  "language_info": {
   "codemirror_mode": {
    "name": "ipython",
    "version": 3
   },
   "file_extension": ".py",
   "mimetype": "text/x-python",
   "name": "python",
   "nbconvert_exporter": "python",
   "pygments_lexer": "ipython3",
   "version": "3.7.6"
  }
 },
 "nbformat": 4,
 "nbformat_minor": 4
}
